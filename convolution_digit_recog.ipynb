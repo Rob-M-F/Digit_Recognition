{
 "cells": [
  {
   "cell_type": "code",
   "execution_count": 1,
   "metadata": {
    "collapsed": true
   },
   "outputs": [],
   "source": [
    "# These are all the modules we'll be using later. Make sure you can import them\n",
    "# before proceeding further.\n",
    "\n",
    "import numpy as np\n",
    "import tensorflow as tf\n",
    "from six.moves import cPickle as pickle\n",
    "from six.moves import range\n",
    "import notMNIST_gen"
   ]
  },
  {
   "cell_type": "code",
   "execution_count": 2,
   "metadata": {
    "collapsed": false,
    "scrolled": false
   },
   "outputs": [
    {
     "name": "stdout",
     "output_type": "stream",
     "text": [
      "Starting\n",
      "Download Complete\n",
      "Extract Complete\n",
      "Saving Complete\n",
      "Data Dictionaries Built\n",
      "Training set (200000, 64, 64) (200000,)\n",
      "Validation set (10000, 64, 64) (10000,)\n",
      "Test set (10000, 64, 64) (10000,)\n"
     ]
    }
   ],
   "source": [
    "save = notMNIST_gen.gen_composite()\n",
    "train_dataset = save['train_dataset']\n",
    "train_labels = save['train_labels']\n",
    "valid_dataset = save['valid_dataset']\n",
    "valid_labels = save['valid_labels']\n",
    "test_dataset = save['test_dataset']\n",
    "test_labels = save['test_labels']\n",
    "del save  # hint to help gc free up memory\n",
    "print('Training set', train_dataset.shape, train_labels.shape)\n",
    "print('Validation set', valid_dataset.shape, valid_labels.shape)\n",
    "print('Test set', test_dataset.shape, test_labels.shape)"
   ]
  },
  {
   "cell_type": "code",
   "execution_count": 3,
   "metadata": {
    "collapsed": false
   },
   "outputs": [
    {
     "name": "stdout",
     "output_type": "stream",
     "text": [
      "[b'A' b'B' b'E' b'H' b' ']\n"
     ]
    }
   ],
   "source": [
    "labels = train_labels\n",
    "new_labels = labels.view('S1').reshape((labels.size, -1))\n",
    "print(new_labels[0])"
   ]
  },
  {
   "cell_type": "code",
   "execution_count": 4,
   "metadata": {
    "collapsed": false
   },
   "outputs": [
    {
     "name": "stdout",
     "output_type": "stream",
     "text": [
      "Training set (200000, 64, 64, 1) (200000, 5, 11)\n",
      "Validation set (10000, 64, 64, 1) (10000, 5, 11)\n",
      "Test set (10000, 64, 64, 1) (10000, 5, 11)\n"
     ]
    }
   ],
   "source": [
    "image_size = 64\n",
    "num_digits = 5\n",
    "char_labels = [b'A',b'B',b'C',b'D',b'E',b'F',b'G',b'H',b'I',b'J',b' ']\n",
    "num_labels = len(char_labels)\n",
    "num_channels = 1 # grayscale\n",
    "\n",
    "import numpy as np\n",
    "\n",
    "def reformat(dataset, labels):\n",
    "  dataset = dataset.reshape(\n",
    "    (-1, image_size, image_size, num_channels)).astype(np.float32)\n",
    "  labels = labels.view('S1').reshape((labels.size, -1))\n",
    "  new_labels = np.ndarray(labels.shape, dtype=np.float32)\n",
    "  for i in range(new_labels.shape[0]):\n",
    "    for j in range(new_labels.shape[1]):\n",
    "        if labels[i,j] in char_labels:\n",
    "            new_labels[i,j] = char_labels.index(labels[i,j])\n",
    "  labels = (np.arange(num_labels) == new_labels[:,:,None])\n",
    "  labels = labels.astype(np.float32)\n",
    "  return dataset, labels\n",
    "train_dataset, train_labels = reformat(train_dataset, train_labels)\n",
    "valid_dataset, valid_labels = reformat(valid_dataset, valid_labels)\n",
    "test_dataset, test_labels = reformat(test_dataset, test_labels)\n",
    "print('Training set', train_dataset.shape, train_labels.shape)\n",
    "print('Validation set', valid_dataset.shape, valid_labels.shape)\n",
    "print('Test set', test_dataset.shape, test_labels.shape)"
   ]
  },
  {
   "cell_type": "code",
   "execution_count": 5,
   "metadata": {
    "collapsed": false,
    "scrolled": false
   },
   "outputs": [
    {
     "name": "stdout",
     "output_type": "stream",
     "text": [
      "[[ 1.  0.  0.  0.  0.  0.  0.  0.  0.  0.  0.]\n",
      " [ 0.  1.  0.  0.  0.  0.  0.  0.  0.  0.  0.]\n",
      " [ 0.  0.  0.  0.  1.  0.  0.  0.  0.  0.  0.]\n",
      " [ 0.  0.  0.  0.  0.  0.  0.  1.  0.  0.  0.]\n",
      " [ 0.  0.  0.  0.  0.  0.  0.  0.  0.  0.  1.]]\n"
     ]
    }
   ],
   "source": [
    "print(train_labels[0])"
   ]
  },
  {
   "cell_type": "code",
   "execution_count": 6,
   "metadata": {
    "collapsed": false,
    "scrolled": false
   },
   "outputs": [],
   "source": [
    "batch_size = 32\n",
    "patch_size = 5\n",
    "depth = 16\n",
    "num_hidden = 64\n",
    "\n",
    "graph = tf.Graph()\n",
    "\n",
    "with graph.as_default():\n",
    "  with tf.name_scope('input_variables'):\n",
    "      tf_train_dataset = tf.placeholder(\n",
    "        tf.float32, shape=(batch_size, image_size, image_size, num_channels), \n",
    "          name='train_dataset_in')\n",
    "      tf_train_labels = tf.placeholder(\n",
    "          tf.float32, shape=(batch_size, num_digits, num_labels), name='train_labels_in')\n",
    "      tf_valid_dataset = tf.constant(valid_dataset, name='valid_dataset_in')\n",
    "      tf_test_dataset = tf.constant(test_dataset, name='valid_labels_in')\n",
    "\n",
    "  def cnn_var_dict():\n",
    "      var_dict = {}\n",
    "      with tf.name_scope('convolutional_net_variables'):\n",
    "          var_dict['layer_1_weights'] = tf.Variable(tf.truncated_normal(\n",
    "              [patch_size, patch_size, num_channels, depth], stddev=0.1), \n",
    "                                                   name='cnn_layer_1_weights')\n",
    "          var_dict['layer_1_biases'] = tf.Variable(tf.zeros([depth]), \n",
    "                                                  name='cnn_layer_1__biases')\n",
    "          var_dict['layer_2_weights'] = tf.Variable(tf.truncated_normal(\n",
    "              [patch_size, patch_size, depth, depth], stddev=0.1), \n",
    "                                                   name='cnn_layer_2_weights')\n",
    "          var_dict['layer_2_biases'] = tf.Variable(tf.constant(1.0, shape=[depth]), \n",
    "                                                  name='cnn_layer_2_biases')\n",
    "          for key in var_dict:\n",
    "            tf.summary.histogram(key + '_summary', var_dict[key])\n",
    "      return var_dict\n",
    "\n",
    "  def variable_dict(digit):\n",
    "      var_dict = {}\n",
    "      with tf.name_scope('Digit_' + digit + '_variables'):\n",
    "          var_dict['layer_1_weights'] = tf.Variable(tf.truncated_normal(\n",
    "              [image_size // 4 * image_size // 4 * depth, num_hidden*4], stddev=0.1), \n",
    "                                                   name='layer_1_'+ digit + '_weights')\n",
    "          var_dict['layer_1_biases'] = tf.Variable(tf.constant(1.0, shape=[num_hidden*4]), \n",
    "                                                  name='layer_1_'+ digit + '_biases')\n",
    "          var_dict['layer_2_weights'] = tf.Variable(tf.truncated_normal(\n",
    "              [num_hidden*4, num_hidden*3], stddev=0.1), \n",
    "                                                   name='layer_2_'+ digit + '_weights')\n",
    "          var_dict['layer_2_biases'] = tf.Variable(tf.constant(1.0, shape=[num_hidden*3]), \n",
    "                                                  name='layer_2_'+ digit + '_biases')\n",
    "          var_dict['layer_3_weights'] = tf.Variable(tf.truncated_normal(\n",
    "              [num_hidden*3, num_hidden*2], stddev=0.1), \n",
    "                                                   name='layer_3_'+ digit + '_weights')\n",
    "          var_dict['layer_3_biases'] = tf.Variable(tf.constant(1.0, shape=[num_hidden*2]), \n",
    "                                                  name='layer_3_'+ digit + '_biases')\n",
    "          var_dict['layer_4_weights'] = tf.Variable(tf.truncated_normal(\n",
    "              [num_hidden*2, num_labels], stddev=0.1), name='layer_4_'+ digit + '_weights')\n",
    "          var_dict['layer_4_biases'] = tf.Variable(tf.constant(1.0, shape=[num_labels]), \n",
    "                                                  name='layer_4_'+ digit + '_biases')\n",
    "          for key in var_dict:\n",
    "            tf.summary.histogram(key + '_summary', var_dict[key])\n",
    "      return var_dict\n",
    "\n",
    "  cnn_vars = cnn_var_dict()\n",
    "  deep_vars = {}\n",
    "  for i in range(num_digits):\n",
    "        deep_vars[str(i)] = variable_dict(str(i))\n",
    "                      \n",
    "  # Model.\n",
    "  def cnn_model(data, var_set):\n",
    "    with tf.name_scope('convolutional_net_operations'):\n",
    "        conv = tf.nn.conv2d(data, var_set['layer_1_weights'], [1, 2, 2, 1], padding='SAME', \n",
    "                            name='Convolution_1')\n",
    "        conv = tf.nn.max_pool(conv, [1, 4, 4, 1], [1, 1, 1, 1], padding='SAME', name='Max_Pool_1')\n",
    "        hidden = tf.nn.relu(conv + var_set['layer_1_biases'], name='CNN_Relu_1')\n",
    "        conv = tf.nn.conv2d(hidden, var_set['layer_2_weights'], [1, 2, 2, 1], padding='SAME', \n",
    "                            name='Convolution_2')\n",
    "        conv = tf.nn.max_pool(conv, [1, 4, 4, 1], [1, 1, 1, 1], padding='SAME', name='Max_Pool_2')\n",
    "        hidden = tf.nn.relu(conv + var_set['layer_2_biases'], name='CNN_Relu_2')\n",
    "        shape = hidden.get_shape().as_list()\n",
    "        reshape = tf.reshape(hidden, [shape[0], shape[1] * shape[2] * shape[3]], name='Collapse_to_2d')\n",
    "    return reshape\n",
    "\n",
    "  def digit_model(data, digit):\n",
    "      with tf.name_scope('Digit_' + digit + '_operations'):\n",
    "        hidden_1 = tf.nn.relu(tf.matmul(data, deep_vars[digit]['layer_1_weights']) + \n",
    "                              deep_vars[digit]['layer_1_biases'], \n",
    "                              name='Digit_' + digit + '_Deep_Relu_1')\n",
    "        hidden_2 = tf.nn.relu(tf.matmul(hidden_1, deep_vars[digit]['layer_2_weights']) + \n",
    "                              deep_vars[digit]['layer_2_biases'], \n",
    "                              name='Digit_' + digit + '_Deep_Relu_2')\n",
    "        hidden_3 = tf.nn.relu(tf.matmul(hidden_2, deep_vars[digit]['layer_3_weights']) + \n",
    "                              deep_vars[digit]['layer_3_biases'], \n",
    "                              name='Digit_' + digit + '_Deep_Relu_3')\n",
    "        result = tf.matmul(hidden_3, deep_vars[digit]['layer_4_weights']) + \\\n",
    "                            deep_vars[digit]['layer_4_biases']\n",
    "      return result\n",
    "\n",
    "  def model(data):\n",
    "      with tf.name_scope('model'):\n",
    "          cnn = cnn_model(data, cnn_vars)\n",
    "          logit_stack = list()\n",
    "          for i in range(num_digits):\n",
    "              logit_stack.append(digit_model(cnn, str(i)))\n",
    "          logits = tf.stack(logit_stack, axis=1)\n",
    "      return logits\n",
    "\n",
    "  # Training computation.\n",
    "  with tf.name_scope('training_computation'):\n",
    "      logits = model(tf_train_dataset)\n",
    "#      logit_shape = logits.get_shape().as_list()\n",
    "#      label_shape = tf_train_labels.get_shape().as_list()\n",
    "#      logit_reshape = tf.reshape(logits,[logit_shape[0]*logit_shape[1], logit_shape[2]])\n",
    "#      label_reshape = tf.reshape(tf_train_labels,[label_shape[0]*label_shape[1], label_shape[2]])\n",
    "      loss = tf.reduce_max(\n",
    "#        tf.nn.softmax_cross_entropy_with_logits(logit_reshape, label_reshape), \n",
    "        tf.nn.softmax_cross_entropy_with_logits(logits, tf_train_labels), \n",
    "          name='loss_function')    \n",
    "\n",
    "  with tf.name_scope('optimizer_computation'):\n",
    "      global_step = tf.Variable(0, name='global_step')  # count the number of steps taken.\n",
    "      learning_rate = tf.train.exponential_decay(0.001, global_step, 10000, 0.95, name='learning_rate')\n",
    "      optimizer = tf.train.AdamOptimizer(learning_rate).minimize(loss, global_step=global_step, \n",
    "                                                                 name='optimizer')\n",
    "  \n",
    "  # Predictions for the training, validation, and test data.\n",
    "  with tf.name_scope('predictions'):\n",
    "      train_prediction = tf.nn.softmax(logits, name='training_prediction')\n",
    "      valid_prediction = tf.nn.softmax(model(tf_valid_dataset), name='validation_prediction')\n",
    "      test_prediction = tf.nn.softmax(model(tf_test_dataset), name='testing_prediction')\n",
    "        \n",
    "#  with tf.name_scope('accuracy'):\n",
    "#    correct_pred = np.argmax(predictions, 1) == np.argmax(labels, 1)\n",
    "#    correct_addr = np.all(correct_pred, 1)\n",
    "#    accuracy_op = tf.reduce_mean(tf.cast(correct_addr, \"float\"))\n",
    "#    tf.scalar_summary('accuracy', accuracy_op)"
   ]
  },
  {
   "cell_type": "code",
   "execution_count": null,
   "metadata": {
    "collapsed": true
   },
   "outputs": [],
   "source": [
    "def accuracy(predictions, labels):\n",
    "  correct_digits = np.argmax(predictions, 2) == np.argmax(labels, 2)\n",
    "  correct_addrs = np.all(correct_digits, 1)\n",
    "#  print(np.argmax(predictions, 2)[0], np.argmax(labels, 2)[0])\n",
    "#  print(correct_digits[0, :], correct_addrs[0])\n",
    "  return (100.0 * np.sum(correct_addrs) / predictions.shape[0])"
   ]
  },
  {
   "cell_type": "code",
   "execution_count": null,
   "metadata": {
    "collapsed": false,
    "scrolled": false
   },
   "outputs": [],
   "source": [
    "num_steps = 500001\n",
    "\n",
    "with tf.Session(graph=graph) as session:\n",
    "  writer = tf.summary.FileWriter('logs/nn_logs', graph=graph)\n",
    "  merged = tf.summary.merge_all()\n",
    "  tf.global_variables_initializer().run()\n",
    "  print('Initialized')\n",
    "  for step in range(num_steps):\n",
    "    offset = (step * batch_size) % (train_labels.shape[0] - batch_size)\n",
    "    batch_data = train_dataset[offset:(offset + batch_size), :, :, :]\n",
    "    batch_labels = train_labels[offset:(offset + batch_size), :, :]\n",
    "    feed_dict = {tf_train_dataset : batch_data, tf_train_labels : batch_labels}\n",
    "    _, summary, l, predictions, learn = session.run(\n",
    "      [optimizer, merged, loss, train_prediction, learning_rate], feed_dict=feed_dict)\n",
    "    writer.add_summary(summary, step)\n",
    "    if (step % 10000 == 0):\n",
    "      print('Minibatch loss at step %d: %f; Learing Rate: %f' % (step, l, learn))\n",
    "      print('Minibatch accuracy: %.1f%%' % accuracy(predictions, batch_labels))\n",
    "      print('Validation accuracy: %.1f%%' % accuracy(\n",
    "        valid_prediction.eval(), valid_labels))\n",
    "  print('Test accuracy: %.1f%%' % accuracy(test_prediction.eval(), test_labels))"
   ]
  },
  {
   "cell_type": "code",
   "execution_count": null,
   "metadata": {
    "collapsed": true
   },
   "outputs": [],
   "source": []
  }
 ],
 "metadata": {
  "kernelspec": {
   "display_name": "Python 3",
   "language": "python",
   "name": "python3"
  },
  "language_info": {
   "codemirror_mode": {
    "name": "ipython",
    "version": 3
   },
   "file_extension": ".py",
   "mimetype": "text/x-python",
   "name": "python",
   "nbconvert_exporter": "python",
   "pygments_lexer": "ipython3",
   "version": "3.5.2"
  }
 },
 "nbformat": 4,
 "nbformat_minor": 2
}
