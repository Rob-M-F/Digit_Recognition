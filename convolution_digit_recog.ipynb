{
 "cells": [
  {
   "cell_type": "code",
   "execution_count": 1,
   "metadata": {
    "collapsed": true
   },
   "outputs": [],
   "source": [
    "# These are all the modules we'll be using later. Make sure you can import them\n",
    "# before proceeding further.\n",
    "\n",
    "import numpy as np\n",
    "import tensorflow as tf\n",
    "from matplotlib import pyplot as plt\n",
    "from six.moves import cPickle as pickle\n",
    "from six.moves import range\n",
    "import notMNIST_gen\n"
   ]
  },
  {
   "cell_type": "code",
   "execution_count": 2,
   "metadata": {
    "collapsed": false,
    "scrolled": false
   },
   "outputs": [
    {
     "name": "stdout",
     "output_type": "stream",
     "text": [
      "Starting\n",
      "Download Complete\n",
      "Extract Complete\n",
      "Saving Complete\n",
      "Data Dictionaries Built\n",
      "Training set (200000, 64, 64) (200000,)\n",
      "Validation set (10000, 64, 64) (10000,)\n",
      "Test set (10000, 64, 64) (10000,)\n"
     ]
    }
   ],
   "source": [
    "save = notMNIST_gen.gen_composite()\n",
    "train_dataset = save['train_dataset']\n",
    "train_labels = save['train_labels']\n",
    "valid_dataset = save['valid_dataset']\n",
    "valid_labels = save['valid_labels']\n",
    "test_dataset = save['test_dataset']\n",
    "test_labels = save['test_labels']\n",
    "del save  # hint to help gc free up memory\n",
    "print('Training set', train_dataset.shape, train_labels.shape)\n",
    "print('Validation set', valid_dataset.shape, valid_labels.shape)\n",
    "print('Test set', test_dataset.shape, test_labels.shape)"
   ]
  },
  {
   "cell_type": "code",
   "execution_count": 3,
   "metadata": {
    "collapsed": false
   },
   "outputs": [
    {
     "name": "stdout",
     "output_type": "stream",
     "text": [
      "[b'A' b'B' b'E' b'H' b' ']\n"
     ]
    }
   ],
   "source": [
    "labels = train_labels\n",
    "new_labels = labels.view('S1').reshape((labels.size, -1))\n",
    "print(new_labels[0])"
   ]
  },
  {
   "cell_type": "code",
   "execution_count": 4,
   "metadata": {
    "collapsed": false
   },
   "outputs": [
    {
     "name": "stdout",
     "output_type": "stream",
     "text": [
      "Training set (200000, 64, 64, 1) (200000, 5, 11)\n",
      "Validation set (10000, 64, 64, 1) (10000, 5, 11)\n",
      "Test set (10000, 64, 64, 1) (10000, 5, 11)\n"
     ]
    }
   ],
   "source": [
    "image_size = 64\n",
    "num_digits = 5\n",
    "char_labels = [b'A',b'B',b'C',b'D',b'E',b'F',b'G',b'H',b'I',b'J',b' ']\n",
    "num_labels = len(char_labels)\n",
    "num_channels = 1 # grayscale\n",
    "\n",
    "import numpy as np\n",
    "\n",
    "def reformat(dataset, labels):\n",
    "  dataset = dataset.reshape(\n",
    "    (-1, image_size, image_size, num_channels)).astype(np.float32)\n",
    "  labels = labels.view('S1').reshape((labels.size, -1))\n",
    "  new_labels = np.ndarray(labels.shape, dtype=np.float32)\n",
    "  for i in range(new_labels.shape[0]):\n",
    "    for j in range(new_labels.shape[1]):\n",
    "        if labels[i,j] in char_labels:\n",
    "            new_labels[i,j] = char_labels.index(labels[i,j])\n",
    "  labels = (np.arange(num_labels) == new_labels[:,:,None])\n",
    "  labels = labels.astype(np.float32)\n",
    "  return dataset, labels\n",
    "train_dataset, train_labels = reformat(train_dataset, train_labels)\n",
    "valid_dataset, valid_labels = reformat(valid_dataset, valid_labels)\n",
    "test_dataset, test_labels = reformat(test_dataset, test_labels)\n",
    "print('Training set', train_dataset.shape, train_labels.shape)\n",
    "print('Validation set', valid_dataset.shape, valid_labels.shape)\n",
    "print('Test set', test_dataset.shape, test_labels.shape)"
   ]
  },
  {
   "cell_type": "code",
   "execution_count": 5,
   "metadata": {
    "collapsed": false,
    "scrolled": false
   },
   "outputs": [
    {
     "name": "stdout",
     "output_type": "stream",
     "text": [
      "[[ 1.  0.  0.  0.  0.  0.  0.  0.  0.  0.  0.]\n",
      " [ 0.  1.  0.  0.  0.  0.  0.  0.  0.  0.  0.]\n",
      " [ 0.  0.  0.  0.  1.  0.  0.  0.  0.  0.  0.]\n",
      " [ 0.  0.  0.  0.  0.  0.  0.  1.  0.  0.  0.]\n",
      " [ 0.  0.  0.  0.  0.  0.  0.  0.  0.  0.  1.]]\n"
     ]
    }
   ],
   "source": [
    "print(train_labels[0])"
   ]
  },
  {
   "cell_type": "code",
   "execution_count": 35,
   "metadata": {
    "collapsed": false,
    "scrolled": false
   },
   "outputs": [],
   "source": [
    "batch_size = 16\n",
    "patch_size = 5\n",
    "depth = 16\n",
    "num_hidden = 64\n",
    "\n",
    "graph = tf.Graph()\n",
    "\n",
    "with graph.as_default():\n",
    "  with tf.name_scope('input_variables'):\n",
    "      tf_train_dataset = tf.placeholder(\n",
    "        tf.float32, shape=(batch_size, image_size, image_size, num_channels), \n",
    "          name='train_dataset_in')\n",
    "      tf_train_labels = tf.placeholder(\n",
    "          tf.float32, shape=(batch_size, num_digits, num_labels), name='train_labels_in')\n",
    "      tf_valid_dataset = tf.constant(valid_dataset, name='valid_dataset_in')\n",
    "      tf_test_dataset = tf.constant(test_dataset, name='valid_labels_in')\n",
    "      tf_keep_prob = tf.constant(0.8, name='keep_probability')\n",
    "\n",
    "  def cnn_var_dict():\n",
    "      var_dict = {}\n",
    "      with tf.name_scope('convolutional_net_variables'):\n",
    "          var_dict['layer_1_weights'] = tf.Variable(tf.truncated_normal(\n",
    "              [patch_size, patch_size, num_channels, depth], stddev=0.1), \n",
    "                                                   name='cnn_layer_1_weights')\n",
    "          var_dict['layer_1_biases'] = tf.Variable(tf.zeros([depth]), \n",
    "                                                  name='cnn_layer_1__biases')\n",
    "          var_dict['layer_2_weights'] = tf.Variable(tf.truncated_normal(\n",
    "              [patch_size, patch_size, depth, depth], stddev=0.1), \n",
    "                                                   name='cnn_layer_2_weights')\n",
    "          var_dict['layer_2_biases'] = tf.Variable(tf.constant(1.0, shape=[depth]), \n",
    "                                                  name='cnn_layer_2_biases')\n",
    "          for key in var_dict:\n",
    "            tf.summary.histogram(key + '_summary', var_dict[key])\n",
    "      return var_dict\n",
    "\n",
    "  def variable_dict(digit):\n",
    "      var_dict = {}\n",
    "      with tf.name_scope('Digit_' + digit + '_variables'):\n",
    "          var_dict['layer_1_weights'] = tf.Variable(tf.truncated_normal(\n",
    "              [image_size // 4 * image_size // 4 * depth, num_hidden*3], stddev=0.1), \n",
    "                                                   name='layer_1_'+ digit + '_weights')\n",
    "          var_dict['layer_1_biases'] = tf.Variable(tf.constant(1.0, shape=[num_hidden*3]), \n",
    "                                                  name='layer_1_'+ digit + '_biases')\n",
    "          var_dict['layer_2_weights'] = tf.Variable(tf.truncated_normal(\n",
    "              [num_hidden*3, num_hidden*2], stddev=0.1), \n",
    "                                                   name='layer_2_'+ digit + '_weights')\n",
    "          var_dict['layer_2_biases'] = tf.Variable(tf.constant(1.0, shape=[num_hidden*2]), \n",
    "                                                  name='layer_2_'+ digit + '_biases')\n",
    "          var_dict['layer_3_weights'] = tf.Variable(tf.truncated_normal(\n",
    "              [num_hidden*2, num_hidden], stddev=0.1), \n",
    "                                                   name='layer_3_'+ digit + '_weights')\n",
    "          var_dict['layer_3_biases'] = tf.Variable(tf.constant(1.0, shape=[num_hidden]), \n",
    "                                                  name='layer_3_'+ digit + '_biases')\n",
    "          var_dict['layer_4_weights'] = tf.Variable(tf.truncated_normal(\n",
    "              [num_hidden, num_labels], stddev=0.1), name='layer_4_'+ digit + '_weights')\n",
    "          var_dict['layer_4_biases'] = tf.Variable(tf.constant(1.0, shape=[num_labels]), \n",
    "                                                  name='layer_4_'+ digit + '_biases')\n",
    "          for key in var_dict:\n",
    "            tf.summary.histogram(key + '_summary', var_dict[key])\n",
    "      return var_dict\n",
    "\n",
    "  cnn_vars = cnn_var_dict()\n",
    "  deep_vars = {}\n",
    "  for i in range(num_digits):\n",
    "        deep_vars[str(i)] = variable_dict(str(i))\n",
    "                      \n",
    "  # Model.\n",
    "  def cnn_model(data, var_set):\n",
    "    with tf.name_scope('convolutional_net_operations'):\n",
    "        conv_1 = tf.nn.conv2d(data, var_set['layer_1_weights'], [1, 2, 2, 1], padding='SAME', \n",
    "                            name='Convolution_1')\n",
    "        conv_1 = tf.nn.max_pool(conv_1, [1, 4, 4, 1], [1, 1, 1, 1], padding='SAME', name='Max_Pool_1')\n",
    "        conv_1 = tf.nn.relu(conv_1 + var_set['layer_1_biases'], name='CNN_Relu_1')\n",
    "        conv_2 = tf.nn.conv2d(conv_1, var_set['layer_2_weights'], [1, 2, 2, 1], padding='SAME', \n",
    "                            name='Convolution_2')\n",
    "        conv_2 = tf.nn.max_pool(conv_2, [1, 4, 4, 1], [1, 1, 1, 1], padding='SAME', name='Max_Pool_2')\n",
    "        conv_2 = tf.nn.relu(conv_2 + var_set['layer_2_biases'], name='CNN_Relu_2')\n",
    "        shape = conv_2.get_shape().as_list()\n",
    "        reshape = tf.reshape(conv_2, [shape[0], shape[1] * shape[2] * shape[3]], name='Collapse_to_2d')\n",
    "    return reshape\n",
    "\n",
    "  def digit_model(data, digit, keep_prob=1):\n",
    "      with tf.name_scope('Digit_' + digit + '_operations'):\n",
    "        hidden_1 = tf.nn.relu(tf.matmul(data, deep_vars[digit]['layer_1_weights']) + \n",
    "                              deep_vars[digit]['layer_1_biases'], \n",
    "                              name='Digit_' + digit + '_Deep_Relu_1')\n",
    "        drop_1 = tf.nn.dropout(hidden_1, keep_prob)\n",
    "        hidden_2 = tf.nn.relu(tf.matmul(drop_1, deep_vars[digit]['layer_2_weights']) + \n",
    "                              deep_vars[digit]['layer_2_biases'], \n",
    "                              name='Digit_' + digit + '_Deep_Relu_2')\n",
    "        drop_2 = tf.nn.dropout(hidden_2, keep_prob)\n",
    "        hidden_3 = tf.nn.relu(tf.matmul(drop_2, deep_vars[digit]['layer_3_weights']) + \n",
    "                              deep_vars[digit]['layer_3_biases'], \n",
    "                              name='Digit_' + digit + '_Deep_Relu_3')\n",
    "        drop_3 = tf.nn.dropout(hidden_3, keep_prob)\n",
    "        result = tf.matmul(drop_3, deep_vars[digit]['layer_4_weights']) + \\\n",
    "                            deep_vars[digit]['layer_4_biases']\n",
    "      return result\n",
    "\n",
    "  def base_model(data, keep_prob=1):\n",
    "      with tf.name_scope('base_model'):\n",
    "          cnn = cnn_model(data, cnn_vars)\n",
    "          logit_stack = list()\n",
    "          for i in range(num_digits):\n",
    "              logit_stack.append(digit_model(cnn, str(i), keep_prob))\n",
    "      return tf.stack(logit_stack, axis=1)\n",
    "\n",
    "  def train_model(logits, labels):\n",
    "      with tf.name_scope('train_model'):\n",
    "        softmax_stack = list()\n",
    "        pred = list()\n",
    "        for i in range(num_digits):\n",
    "            cross_entropy = tf.nn.softmax_cross_entropy_with_logits(logits[:,i,:], labels[:,i,:])\n",
    "            softmax_stack.append(tf.reduce_mean(cross_entropy))\n",
    "        loss = tf.reduce_mean(tf.stack(softmax_stack), name='loss_function')\n",
    "      return loss\n",
    "\n",
    "  def make_prediction(logits):\n",
    "      with tf.name_scope('test_model'):\n",
    "        pred = list()\n",
    "        for i in range(num_digits):\n",
    "              pred.append(tf.nn.softmax(logits[:,i,:]))\n",
    "        return tf.stack(pred, axis=1)\n",
    "\n",
    "  # Training computation.\n",
    "  with tf.name_scope('training_computation'):\n",
    "      logits = base_model(tf_train_dataset, tf_keep_prob)\n",
    "      loss = train_model(logits, tf_train_labels)\n",
    "\n",
    "  with tf.name_scope('optimizer_computation'):\n",
    "      global_step = tf.Variable(0, name='global_step')  # count the number of steps taken.\n",
    "      learning_rate = tf.train.exponential_decay(0.001, global_step, 200, 0.99, name='learning_rate')\n",
    "      optimizer = tf.train.AdamOptimizer(learning_rate).minimize(loss, global_step=global_step, \n",
    "                                                                 name='optimizer')\n",
    "  \n",
    "  # Predictions for the validation, and test data.\n",
    "  with tf.name_scope('predictions'):\n",
    "      train_prediction = make_prediction(logits)\n",
    "      valid_prediction = make_prediction(base_model(tf_valid_dataset))\n",
    "      test_prediction = make_prediction(base_model(tf_test_dataset))"
   ]
  },
  {
   "cell_type": "code",
   "execution_count": 36,
   "metadata": {
    "collapsed": false
   },
   "outputs": [],
   "source": [
    "def accuracy(predictions, labels):\n",
    "#    print(predictions.shape, labels.shape)\n",
    "    correct_digits = (np.argmax(predictions, 2) == np.argmax(labels, 2))\n",
    "#    print(correct_digits.shape)\n",
    "    correct_addrs = np.all(correct_digits, 1)\n",
    "#    print(np.argmax(predictions, 2)[0], np.argmax(labels, 2)[0])\n",
    "#    print(correct_digits[0, :], correct_addrs[0])\n",
    "    return (100.0 * np.sum(correct_addrs) / predictions.shape[0])"
   ]
  },
  {
   "cell_type": "code",
   "execution_count": 37,
   "metadata": {
    "collapsed": false
   },
   "outputs": [
    {
     "name": "stdout",
     "output_type": "stream",
     "text": [
      "Initialized\n",
      "Minibatch loss at step 0: 539.983337; Learing Rate: 0.001000\n",
      "Minibatch accuracy: 0.0%\n",
      "Validation accuracy: 0.1%\n",
      "Minibatch loss at step 2500: 0.644337; Learing Rate: 0.000778\n",
      "Minibatch accuracy: 43.8%\n",
      "Validation accuracy: 35.0%\n",
      "Minibatch loss at step 5000: 0.513663; Learing Rate: 0.000605\n",
      "Minibatch accuracy: 56.2%\n",
      "Validation accuracy: 39.0%\n",
      "Minibatch loss at step 7500: 0.866851; Learing Rate: 0.000471\n",
      "Minibatch accuracy: 6.2%\n",
      "Validation accuracy: 42.6%\n",
      "Minibatch loss at step 10000: 0.652186; Learing Rate: 0.000366\n",
      "Minibatch accuracy: 25.0%\n",
      "Validation accuracy: 46.4%\n",
      "Minibatch loss at step 12500: 0.816352; Learing Rate: 0.000285\n",
      "Minibatch accuracy: 31.2%\n",
      "Validation accuracy: 48.3%\n",
      "Minibatch loss at step 15000: 0.731066; Learing Rate: 0.000221\n",
      "Minibatch accuracy: 37.5%\n",
      "Validation accuracy: 50.6%\n",
      "Minibatch loss at step 17500: 0.722086; Learing Rate: 0.000172\n",
      "Minibatch accuracy: 43.8%\n",
      "Validation accuracy: 51.5%\n",
      "Minibatch loss at step 20000: 0.537245; Learing Rate: 0.000134\n",
      "Minibatch accuracy: 37.5%\n",
      "Validation accuracy: 52.7%\n",
      "Minibatch loss at step 22500: 0.546247; Learing Rate: 0.000104\n",
      "Minibatch accuracy: 50.0%\n",
      "Validation accuracy: 54.5%\n",
      "Minibatch loss at step 25000: 0.333176; Learing Rate: 0.000081\n",
      "Minibatch accuracy: 56.2%\n",
      "Validation accuracy: 54.9%\n",
      "Minibatch loss at step 27500: 0.451085; Learing Rate: 0.000063\n",
      "Minibatch accuracy: 62.5%\n",
      "Validation accuracy: 55.9%\n",
      "Minibatch loss at step 30000: 0.545920; Learing Rate: 0.000049\n",
      "Minibatch accuracy: 43.8%\n",
      "Validation accuracy: 55.9%\n",
      "Minibatch loss at step 32500: 0.839594; Learing Rate: 0.000038\n",
      "Minibatch accuracy: 31.2%\n",
      "Validation accuracy: 56.5%\n",
      "Minibatch loss at step 35000: 0.287926; Learing Rate: 0.000030\n",
      "Minibatch accuracy: 62.5%\n",
      "Validation accuracy: 56.7%\n",
      "Minibatch loss at step 37500: 0.432557; Learing Rate: 0.000023\n",
      "Minibatch accuracy: 56.2%\n",
      "Validation accuracy: 57.0%\n",
      "Minibatch loss at step 40000: 0.259623; Learing Rate: 0.000018\n",
      "Minibatch accuracy: 68.8%\n",
      "Validation accuracy: 57.0%\n",
      "Minibatch loss at step 42500: 0.478408; Learing Rate: 0.000014\n",
      "Minibatch accuracy: 50.0%\n",
      "Validation accuracy: 57.1%\n",
      "Minibatch loss at step 45000: 0.451878; Learing Rate: 0.000011\n",
      "Minibatch accuracy: 37.5%\n",
      "Validation accuracy: 57.3%\n",
      "Minibatch loss at step 47500: 0.325894; Learing Rate: 0.000008\n",
      "Minibatch accuracy: 62.5%\n",
      "Validation accuracy: 57.5%\n",
      "Minibatch loss at step 50000: 0.465566; Learing Rate: 0.000007\n",
      "Minibatch accuracy: 50.0%\n",
      "Validation accuracy: 57.5%\n",
      "Minibatch loss at step 52500: 0.218587; Learing Rate: 0.000005\n",
      "Minibatch accuracy: 62.5%\n",
      "Validation accuracy: 57.5%\n",
      "Minibatch loss at step 55000: 0.586355; Learing Rate: 0.000004\n",
      "Minibatch accuracy: 50.0%\n",
      "Validation accuracy: 57.6%\n",
      "Minibatch loss at step 57500: 0.603588; Learing Rate: 0.000003\n",
      "Minibatch accuracy: 50.0%\n",
      "Validation accuracy: 57.7%\n",
      "Minibatch loss at step 60000: 0.416225; Learing Rate: 0.000002\n",
      "Minibatch accuracy: 75.0%\n",
      "Validation accuracy: 57.6%\n"
     ]
    },
    {
     "ename": "KeyboardInterrupt",
     "evalue": "",
     "output_type": "error",
     "traceback": [
      "\u001b[0;31m---------------------------------------------------------------------------\u001b[0m",
      "\u001b[0;31mKeyboardInterrupt\u001b[0m                         Traceback (most recent call last)",
      "\u001b[0;32m<ipython-input-37-cd76474ec3eb>\u001b[0m in \u001b[0;36m<module>\u001b[0;34m()\u001b[0m\n\u001b[1;32m     12\u001b[0m     \u001b[0mfeed_dict\u001b[0m \u001b[1;33m=\u001b[0m \u001b[1;33m{\u001b[0m\u001b[0mtf_train_dataset\u001b[0m \u001b[1;33m:\u001b[0m \u001b[0mbatch_data\u001b[0m\u001b[1;33m,\u001b[0m \u001b[0mtf_train_labels\u001b[0m \u001b[1;33m:\u001b[0m \u001b[0mbatch_labels\u001b[0m\u001b[1;33m}\u001b[0m\u001b[1;33m\u001b[0m\u001b[0m\n\u001b[1;32m     13\u001b[0m     _, summary, l, predictions, learn = session.run(\n\u001b[0;32m---> 14\u001b[0;31m       [optimizer, merged, loss, train_prediction, learning_rate], feed_dict=feed_dict)\n\u001b[0m\u001b[1;32m     15\u001b[0m     \u001b[0mwriter\u001b[0m\u001b[1;33m.\u001b[0m\u001b[0madd_summary\u001b[0m\u001b[1;33m(\u001b[0m\u001b[0msummary\u001b[0m\u001b[1;33m,\u001b[0m \u001b[0mstep\u001b[0m\u001b[1;33m)\u001b[0m\u001b[1;33m\u001b[0m\u001b[0m\n\u001b[1;32m     16\u001b[0m     \u001b[1;32mif\u001b[0m \u001b[1;33m(\u001b[0m\u001b[0mstep\u001b[0m \u001b[1;33m%\u001b[0m \u001b[1;36m2500\u001b[0m \u001b[1;33m==\u001b[0m \u001b[1;36m0\u001b[0m\u001b[1;33m)\u001b[0m\u001b[1;33m:\u001b[0m\u001b[1;33m\u001b[0m\u001b[0m\n",
      "\u001b[0;32mC:\\Program Files\\Anaconda3\\envs\\digit_recog\\lib\\site-packages\\tensorflow\\python\\client\\session.py\u001b[0m in \u001b[0;36mrun\u001b[0;34m(self, fetches, feed_dict, options, run_metadata)\u001b[0m\n\u001b[1;32m    764\u001b[0m     \u001b[1;32mtry\u001b[0m\u001b[1;33m:\u001b[0m\u001b[1;33m\u001b[0m\u001b[0m\n\u001b[1;32m    765\u001b[0m       result = self._run(None, fetches, feed_dict, options_ptr,\n\u001b[0;32m--> 766\u001b[0;31m                          run_metadata_ptr)\n\u001b[0m\u001b[1;32m    767\u001b[0m       \u001b[1;32mif\u001b[0m \u001b[0mrun_metadata\u001b[0m\u001b[1;33m:\u001b[0m\u001b[1;33m\u001b[0m\u001b[0m\n\u001b[1;32m    768\u001b[0m         \u001b[0mproto_data\u001b[0m \u001b[1;33m=\u001b[0m \u001b[0mtf_session\u001b[0m\u001b[1;33m.\u001b[0m\u001b[0mTF_GetBuffer\u001b[0m\u001b[1;33m(\u001b[0m\u001b[0mrun_metadata_ptr\u001b[0m\u001b[1;33m)\u001b[0m\u001b[1;33m\u001b[0m\u001b[0m\n",
      "\u001b[0;32mC:\\Program Files\\Anaconda3\\envs\\digit_recog\\lib\\site-packages\\tensorflow\\python\\client\\session.py\u001b[0m in \u001b[0;36m_run\u001b[0;34m(self, handle, fetches, feed_dict, options, run_metadata)\u001b[0m\n\u001b[1;32m    962\u001b[0m     \u001b[1;32mif\u001b[0m \u001b[0mfinal_fetches\u001b[0m \u001b[1;32mor\u001b[0m \u001b[0mfinal_targets\u001b[0m\u001b[1;33m:\u001b[0m\u001b[1;33m\u001b[0m\u001b[0m\n\u001b[1;32m    963\u001b[0m       results = self._do_run(handle, final_targets, final_fetches,\n\u001b[0;32m--> 964\u001b[0;31m                              feed_dict_string, options, run_metadata)\n\u001b[0m\u001b[1;32m    965\u001b[0m     \u001b[1;32melse\u001b[0m\u001b[1;33m:\u001b[0m\u001b[1;33m\u001b[0m\u001b[0m\n\u001b[1;32m    966\u001b[0m       \u001b[0mresults\u001b[0m \u001b[1;33m=\u001b[0m \u001b[1;33m[\u001b[0m\u001b[1;33m]\u001b[0m\u001b[1;33m\u001b[0m\u001b[0m\n",
      "\u001b[0;32mC:\\Program Files\\Anaconda3\\envs\\digit_recog\\lib\\site-packages\\tensorflow\\python\\client\\session.py\u001b[0m in \u001b[0;36m_do_run\u001b[0;34m(self, handle, target_list, fetch_list, feed_dict, options, run_metadata)\u001b[0m\n\u001b[1;32m   1012\u001b[0m     \u001b[1;32mif\u001b[0m \u001b[0mhandle\u001b[0m \u001b[1;32mis\u001b[0m \u001b[1;32mNone\u001b[0m\u001b[1;33m:\u001b[0m\u001b[1;33m\u001b[0m\u001b[0m\n\u001b[1;32m   1013\u001b[0m       return self._do_call(_run_fn, self._session, feed_dict, fetch_list,\n\u001b[0;32m-> 1014\u001b[0;31m                            target_list, options, run_metadata)\n\u001b[0m\u001b[1;32m   1015\u001b[0m     \u001b[1;32melse\u001b[0m\u001b[1;33m:\u001b[0m\u001b[1;33m\u001b[0m\u001b[0m\n\u001b[1;32m   1016\u001b[0m       return self._do_call(_prun_fn, self._session, handle, feed_dict,\n",
      "\u001b[0;32mC:\\Program Files\\Anaconda3\\envs\\digit_recog\\lib\\site-packages\\tensorflow\\python\\client\\session.py\u001b[0m in \u001b[0;36m_do_call\u001b[0;34m(self, fn, *args)\u001b[0m\n\u001b[1;32m   1019\u001b[0m   \u001b[1;32mdef\u001b[0m \u001b[0m_do_call\u001b[0m\u001b[1;33m(\u001b[0m\u001b[0mself\u001b[0m\u001b[1;33m,\u001b[0m \u001b[0mfn\u001b[0m\u001b[1;33m,\u001b[0m \u001b[1;33m*\u001b[0m\u001b[0margs\u001b[0m\u001b[1;33m)\u001b[0m\u001b[1;33m:\u001b[0m\u001b[1;33m\u001b[0m\u001b[0m\n\u001b[1;32m   1020\u001b[0m     \u001b[1;32mtry\u001b[0m\u001b[1;33m:\u001b[0m\u001b[1;33m\u001b[0m\u001b[0m\n\u001b[0;32m-> 1021\u001b[0;31m       \u001b[1;32mreturn\u001b[0m \u001b[0mfn\u001b[0m\u001b[1;33m(\u001b[0m\u001b[1;33m*\u001b[0m\u001b[0margs\u001b[0m\u001b[1;33m)\u001b[0m\u001b[1;33m\u001b[0m\u001b[0m\n\u001b[0m\u001b[1;32m   1022\u001b[0m     \u001b[1;32mexcept\u001b[0m \u001b[0merrors\u001b[0m\u001b[1;33m.\u001b[0m\u001b[0mOpError\u001b[0m \u001b[1;32mas\u001b[0m \u001b[0me\u001b[0m\u001b[1;33m:\u001b[0m\u001b[1;33m\u001b[0m\u001b[0m\n\u001b[1;32m   1023\u001b[0m       \u001b[0mmessage\u001b[0m \u001b[1;33m=\u001b[0m \u001b[0mcompat\u001b[0m\u001b[1;33m.\u001b[0m\u001b[0mas_text\u001b[0m\u001b[1;33m(\u001b[0m\u001b[0me\u001b[0m\u001b[1;33m.\u001b[0m\u001b[0mmessage\u001b[0m\u001b[1;33m)\u001b[0m\u001b[1;33m\u001b[0m\u001b[0m\n",
      "\u001b[0;32mC:\\Program Files\\Anaconda3\\envs\\digit_recog\\lib\\site-packages\\tensorflow\\python\\client\\session.py\u001b[0m in \u001b[0;36m_run_fn\u001b[0;34m(session, feed_dict, fetch_list, target_list, options, run_metadata)\u001b[0m\n\u001b[1;32m   1001\u001b[0m         return tf_session.TF_Run(session, options,\n\u001b[1;32m   1002\u001b[0m                                  \u001b[0mfeed_dict\u001b[0m\u001b[1;33m,\u001b[0m \u001b[0mfetch_list\u001b[0m\u001b[1;33m,\u001b[0m \u001b[0mtarget_list\u001b[0m\u001b[1;33m,\u001b[0m\u001b[1;33m\u001b[0m\u001b[0m\n\u001b[0;32m-> 1003\u001b[0;31m                                  status, run_metadata)\n\u001b[0m\u001b[1;32m   1004\u001b[0m \u001b[1;33m\u001b[0m\u001b[0m\n\u001b[1;32m   1005\u001b[0m     \u001b[1;32mdef\u001b[0m \u001b[0m_prun_fn\u001b[0m\u001b[1;33m(\u001b[0m\u001b[0msession\u001b[0m\u001b[1;33m,\u001b[0m \u001b[0mhandle\u001b[0m\u001b[1;33m,\u001b[0m \u001b[0mfeed_dict\u001b[0m\u001b[1;33m,\u001b[0m \u001b[0mfetch_list\u001b[0m\u001b[1;33m)\u001b[0m\u001b[1;33m:\u001b[0m\u001b[1;33m\u001b[0m\u001b[0m\n",
      "\u001b[0;31mKeyboardInterrupt\u001b[0m: "
     ]
    }
   ],
   "source": [
    "num_steps = 100001\n",
    "\n",
    "with tf.Session(graph=graph) as session:\n",
    "  writer = tf.summary.FileWriter('logs/nn_logs', graph=graph)\n",
    "  merged = tf.summary.merge_all()\n",
    "  tf.global_variables_initializer().run()\n",
    "  print('Initialized')\n",
    "  for step in range(num_steps):\n",
    "    offset = (step * batch_size) % (train_labels.shape[0] - batch_size)\n",
    "    batch_data = train_dataset[offset:(offset + batch_size), :, :, :]\n",
    "    batch_labels = train_labels[offset:(offset + batch_size), :, :]\n",
    "    feed_dict = {tf_train_dataset : batch_data, tf_train_labels : batch_labels}\n",
    "    _, summary, l, predictions, learn = session.run(\n",
    "      [optimizer, merged, loss, train_prediction, learning_rate], feed_dict=feed_dict)\n",
    "    writer.add_summary(summary, step)\n",
    "    if (step % 2500 == 0):\n",
    "      print('Minibatch loss at step %d: %f; Learing Rate: %f' % (step, l, learn))\n",
    "      print('Minibatch accuracy: %.1f%%' % accuracy(predictions, batch_labels))\n",
    "      valid_pred = valid_prediction.eval()\n",
    "      print('Validation accuracy: %.1f%%' % accuracy(valid_pred, valid_labels))\n",
    "  print('Test accuracy: %.1f%%' % accuracy(test_prediction.eval(), test_labels))"
   ]
  },
  {
   "cell_type": "code",
   "execution_count": null,
   "metadata": {
    "collapsed": true
   },
   "outputs": [],
   "source": []
  }
 ],
 "metadata": {
  "kernelspec": {
   "display_name": "Python 3",
   "language": "python",
   "name": "python3"
  },
  "language_info": {
   "codemirror_mode": {
    "name": "ipython",
    "version": 3
   },
   "file_extension": ".py",
   "mimetype": "text/x-python",
   "name": "python",
   "nbconvert_exporter": "python",
   "pygments_lexer": "ipython3",
   "version": "3.5.2"
  }
 },
 "nbformat": 4,
 "nbformat_minor": 2
}
