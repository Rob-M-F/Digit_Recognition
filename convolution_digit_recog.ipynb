{
 "cells": [
  {
   "cell_type": "code",
   "execution_count": 1,
   "metadata": {
    "collapsed": true
   },
   "outputs": [],
   "source": [
    "# These are all the modules we'll be using later. Make sure you can import them\n",
    "# before proceeding further.\n",
    "\n",
    "import numpy as np\n",
    "import tensorflow as tf\n",
    "import cv2\n",
    "from matplotlib import pyplot as plt\n",
    "from six.moves import cPickle as pickle\n",
    "from six.moves import range\n",
    "import notMNIST_gen\n",
    "\n",
    "# Config the matplotlib backend as plotting inline in IPython\n",
    "%matplotlib inline"
   ]
  },
  {
   "cell_type": "code",
   "execution_count": 2,
   "metadata": {
    "collapsed": false,
    "scrolled": false
   },
   "outputs": [
    {
     "name": "stdout",
     "output_type": "stream",
     "text": [
      "Starting\n",
      "Download Complete\n",
      "Extract Complete\n",
      "Saving Complete\n",
      "Data Dictionaries Built\n",
      "Training set (200000, 64, 64) (200000,)\n",
      "Validation set (10000, 64, 64) (10000,)\n",
      "Test set (10000, 64, 64) (10000,)\n"
     ]
    }
   ],
   "source": [
    "save = notMNIST_gen.gen_composite()\n",
    "train_dataset = save['train_dataset']\n",
    "train_labels = save['train_labels']\n",
    "valid_dataset = save['valid_dataset']\n",
    "valid_labels = save['valid_labels']\n",
    "test_dataset = save['test_dataset']\n",
    "test_labels = save['test_labels']\n",
    "del save  # hint to help gc free up memory\n",
    "print('Training set', train_dataset.shape, train_labels.shape)\n",
    "print('Validation set', valid_dataset.shape, valid_labels.shape)\n",
    "print('Test set', test_dataset.shape, test_labels.shape)"
   ]
  },
  {
   "cell_type": "code",
   "execution_count": 3,
   "metadata": {
    "collapsed": false
   },
   "outputs": [
    {
     "name": "stdout",
     "output_type": "stream",
     "text": [
      "[b'A' b'B' b'E' b'H' b' ']\n"
     ]
    }
   ],
   "source": [
    "labels = train_labels\n",
    "new_labels = labels.view('S1').reshape((labels.size, -1))\n",
    "print(new_labels[0])"
   ]
  },
  {
   "cell_type": "code",
   "execution_count": 4,
   "metadata": {
    "collapsed": false
   },
   "outputs": [
    {
     "name": "stdout",
     "output_type": "stream",
     "text": [
      "Training set (200000, 64, 64, 1) (200000, 5, 11)\n",
      "Validation set (10000, 64, 64, 1) (10000, 5, 11)\n",
      "Test set (10000, 64, 64, 1) (10000, 5, 11)\n"
     ]
    }
   ],
   "source": [
    "image_size = 64\n",
    "num_digits = 5\n",
    "char_labels = [b'A',b'B',b'C',b'D',b'E',b'F',b'G',b'H',b'I',b'J',b' ']\n",
    "num_labels = len(char_labels)\n",
    "num_channels = 1 # grayscale\n",
    "\n",
    "import numpy as np\n",
    "\n",
    "def reformat(dataset, labels):\n",
    "  dataset = dataset.reshape(\n",
    "    (-1, image_size, image_size)).astype(np.uint8)\n",
    "  dataset_edges = np.zeros(dataset.shape, dtype=np.float32)\n",
    "  for i in range(dataset.shape[0]):\n",
    "    line_image = np.copy(dataset[i,:,:])\n",
    "    dst = cv2.blur(line_image, (5, 5))\n",
    "#    dst = line_image\n",
    "    edges = cv2.Canny(dst, 100, 200)\n",
    "    dataset_edges[i,:,:] = edges.astype(np.float32)\n",
    "#    dataset_edges[i,:,:] = line_image.astype(np.float32)\n",
    "#    plt.imshow(edges), plt.xticks([]), plt.yticks([])\n",
    "#    print(mnist['train_labels'][0], mnist['train_dataset'][0].shape)\n",
    "  labels = labels.view('S1').reshape((labels.size, -1))\n",
    "  new_labels = np.ndarray(labels.shape, dtype=np.float32)\n",
    "  for i in range(new_labels.shape[0]):\n",
    "    for j in range(new_labels.shape[1]):\n",
    "        if labels[i,j] in char_labels:\n",
    "            new_labels[i,j] = char_labels.index(labels[i,j])\n",
    "  labels = (np.arange(num_labels) == new_labels[:,:,None])\n",
    "  labels = labels.astype(np.float32)\n",
    "  dataset = dataset_edges.reshape((-1, image_size, image_size, num_channels)).astype(np.float32)\n",
    "  return dataset, labels\n",
    "train_dataset, train_labels = reformat(train_dataset, train_labels)\n",
    "valid_dataset, valid_labels = reformat(valid_dataset, valid_labels)\n",
    "test_dataset, test_labels = reformat(test_dataset, test_labels)\n",
    "print('Training set', train_dataset.shape, train_labels.shape)\n",
    "print('Validation set', valid_dataset.shape, valid_labels.shape)\n",
    "print('Test set', test_dataset.shape, test_labels.shape)"
   ]
  },
  {
   "cell_type": "code",
   "execution_count": 5,
   "metadata": {
    "collapsed": false,
    "scrolled": true
   },
   "outputs": [
    {
     "name": "stdout",
     "output_type": "stream",
     "text": [
      "[[ 1.  0.  0.  0.  0.  0.  0.  0.  0.  0.  0.]\n",
      " [ 0.  1.  0.  0.  0.  0.  0.  0.  0.  0.  0.]\n",
      " [ 0.  0.  0.  0.  1.  0.  0.  0.  0.  0.  0.]\n",
      " [ 0.  0.  0.  0.  0.  0.  0.  1.  0.  0.  0.]\n",
      " [ 0.  0.  0.  0.  0.  0.  0.  0.  0.  0.  1.]] (5, 11)\n"
     ]
    },
    {
     "data": {
      "image/png": "[encoded data removed]",
      "text/plain": [
       "<matplotlib.figure.Figure at 0x28dd02f20b8>"
      ]
     },
     "metadata": {},
     "output_type": "display_data"
    }
   ],
   "source": [
    "plt.imshow(train_dataset[0,:,:,0]), plt.xticks([]), plt.yticks([])\n",
    "print(train_labels[0], train_labels[0].shape)"
   ]
  },
  {
   "cell_type": "code",
   "execution_count": 6,
   "metadata": {
    "collapsed": false,
    "scrolled": false
   },
   "outputs": [
    {
     "name": "stdout",
     "output_type": "stream",
     "text": [
      "[[ 1.  0.  0.  0.  0.  0.  0.  0.  0.  0.  0.]\n",
      " [ 0.  1.  0.  0.  0.  0.  0.  0.  0.  0.  0.]\n",
      " [ 0.  0.  0.  0.  1.  0.  0.  0.  0.  0.  0.]\n",
      " [ 0.  0.  0.  0.  0.  0.  0.  1.  0.  0.  0.]\n",
      " [ 0.  0.  0.  0.  0.  0.  0.  0.  0.  0.  1.]]\n"
     ]
    }
   ],
   "source": [
    "print(train_labels[0])"
   ]
  },
  {
   "cell_type": "code",
   "execution_count": 7,
   "metadata": {
    "collapsed": false
   },
   "outputs": [],
   "source": [
    "def accuracy(predictions, labels):\n",
    "#    print(predictions.shape, labels.shape)\n",
    "    correct_digits = (np.argmax(predictions, 2) == np.argmax(labels, 2))\n",
    "#    print(correct_digits.shape)\n",
    "    correct_addrs = np.all(correct_digits, 1)\n",
    "#    print(np.argmax(predictions, 2)[0], np.argmax(labels, 2)[0])\n",
    "#    print(correct_digits[0, :], correct_addrs[0])\n",
    "    return (100.0 * np.sum(correct_addrs) / predictions.shape[0])"
   ]
  },
  {
   "cell_type": "code",
   "execution_count": 28,
   "metadata": {
    "collapsed": false,
    "scrolled": false
   },
   "outputs": [],
   "source": [
    "batch_size = 12\n",
    "patch_size = 5\n",
    "depth = 16\n",
    "num_hidden = 32\n",
    "\n",
    "graph = tf.Graph()\n",
    "\n",
    "with graph.as_default():\n",
    "  with tf.name_scope('input_variables'):\n",
    "      tf_train_dataset = tf.placeholder(\n",
    "        tf.float32, shape=(batch_size, image_size, image_size, num_channels), \n",
    "          name='train_dataset_in')\n",
    "      tf_train_labels = tf.placeholder(\n",
    "          tf.float32, shape=(batch_size, num_digits, num_labels), name='train_labels_in')\n",
    "      tf_valid_dataset = tf.constant(valid_dataset, name='valid_dataset_in')\n",
    "      tf_test_dataset = tf.constant(test_dataset, name='valid_labels_in')\n",
    "      tf_keep_prob = tf.constant(0.5, name='keep_probability')\n",
    "\n",
    "  def cnn_var_dict():\n",
    "      var_dict = {}\n",
    "      with tf.name_scope('convolutional_net_variables'):\n",
    "          var_dict['layer_1_weights'] = tf.Variable(tf.truncated_normal(\n",
    "              [patch_size, patch_size, num_channels, depth], stddev=0.1), \n",
    "                                                   name='cnn_layer_1_weights')\n",
    "          var_dict['layer_1_biases'] = tf.Variable(tf.zeros([depth]), \n",
    "                                                  name='cnn_layer_1__biases')\n",
    "          var_dict['layer_2_weights'] = tf.Variable(tf.truncated_normal(\n",
    "              [patch_size, patch_size, depth, depth*4], stddev=0.1), \n",
    "                                                   name='cnn_layer_2_weights')\n",
    "          var_dict['layer_2_biases'] = tf.Variable(tf.constant(1.0, shape=[depth*4]), \n",
    "                                                  name='cnn_layer_2_biases')\n",
    "          for key in var_dict:\n",
    "            tf.summary.histogram(key + '_summary', var_dict[key])\n",
    "      return var_dict\n",
    "\n",
    "  def variable_dict(digit):\n",
    "      var_dict = {}\n",
    "      with tf.name_scope('Digit_' + digit + '_variables'):\n",
    "          var_dict['layer_1_weights'] = tf.Variable(tf.truncated_normal(\n",
    "              [image_size // 2 * image_size // 2 * depth, num_hidden*3], stddev=0.1), \n",
    "                                                   name='layer_1_'+ digit + '_weights')\n",
    "          var_dict['layer_1_biases'] = tf.Variable(tf.constant(1.0, shape=[num_hidden*3]), \n",
    "                                                  name='layer_1_'+ digit + '_biases')\n",
    "          var_dict['layer_2_weights'] = tf.Variable(tf.truncated_normal(\n",
    "              [num_hidden*3, num_hidden*2], stddev=0.1), \n",
    "                                                   name='layer_2_'+ digit + '_weights')\n",
    "          var_dict['layer_2_biases'] = tf.Variable(tf.constant(1.0, shape=[num_hidden*2]), \n",
    "                                                  name='layer_2_'+ digit + '_biases')\n",
    "          var_dict['layer_3_weights'] = tf.Variable(tf.truncated_normal(\n",
    "              [num_hidden*2, num_hidden*2], stddev=0.1), \n",
    "                                                   name='layer_3_'+ digit + '_weights')\n",
    "          var_dict['layer_3_biases'] = tf.Variable(tf.constant(1.0, shape=[num_hidden*2]), \n",
    "                                                  name='layer_3_'+ digit + '_biases')\n",
    "          var_dict['layer_4_weights'] = tf.Variable(tf.truncated_normal(\n",
    "              [num_hidden*2, num_labels], stddev=0.1), name='layer_4_'+ digit + '_weights')\n",
    "          var_dict['layer_4_biases'] = tf.Variable(tf.constant(1.0, shape=[num_labels]), \n",
    "                                                  name='layer_4_'+ digit + '_biases')\n",
    "          for key in var_dict:\n",
    "            tf.summary.histogram(key + '_summary', var_dict[key])\n",
    "      return var_dict\n",
    "\n",
    "  cnn_vars = cnn_var_dict()\n",
    "  deep_vars = {}\n",
    "  for i in range(num_digits):\n",
    "        deep_vars[str(i)] = variable_dict(str(i))\n",
    "                      \n",
    "  # Model.\n",
    "  def cnn_model(data, var_set):\n",
    "    with tf.name_scope('convolutional_net_operations'):\n",
    "        conv_1 = tf.nn.conv2d(data, var_set['layer_1_weights'], [1, 2, 2, 1], padding='SAME', \n",
    "                            name='Convolution_1')\n",
    "        conv_1 = tf.nn.max_pool(conv_1, [1, 4, 4, 1], [1, 1, 1, 1], padding='SAME', name='Max_Pool_1')\n",
    "        conv_1 = tf.nn.relu(conv_1 + var_set['layer_1_biases'], name='CNN_Relu_1')\n",
    "        conv_2 = tf.nn.conv2d(conv_1, var_set['layer_2_weights'], [1, 2, 2, 1], padding='SAME', \n",
    "                            name='Convolution_2')\n",
    "        conv_2 = tf.nn.max_pool(conv_2, [1, 4, 4, 1], [1, 1, 1, 1], padding='SAME', name='Max_Pool_2')\n",
    "        conv_2 = tf.nn.relu(conv_2 + var_set['layer_2_biases'], name='CNN_Relu_2')\n",
    "        shape = conv_2.get_shape().as_list()\n",
    "        reshape = tf.reshape(conv_2, [shape[0], shape[1] * shape[2] * shape[3]], name='Collapse_to_2d')\n",
    "    return reshape\n",
    "\n",
    "  def digit_model(data, digit, keep_prob=1):\n",
    "      with tf.name_scope('Digit_' + digit + '_operations'):\n",
    "        hidden_1 = tf.nn.relu(tf.matmul(data, deep_vars['0']['layer_1_weights']) + \n",
    "                              deep_vars[digit]['layer_1_biases'], \n",
    "                              name='Digit_' + digit + '_Deep_Relu_1')\n",
    "        drop_1 = tf.nn.dropout(hidden_1, keep_prob)\n",
    "        hidden_2 = tf.nn.relu(tf.matmul(drop_1, deep_vars['0']['layer_2_weights']) + \n",
    "                              deep_vars[digit]['layer_2_biases'], \n",
    "                              name='Digit_' + digit + '_Deep_Relu_2')\n",
    "        drop_2 = tf.nn.dropout(hidden_2, keep_prob)\n",
    "        hidden_3 = tf.nn.relu(tf.matmul(drop_2, deep_vars['0']['layer_3_weights']) + \n",
    "                              deep_vars[digit]['layer_3_biases'], \n",
    "                              name='Digit_' + digit + '_Deep_Relu_3')\n",
    "        drop_3 = tf.nn.dropout(hidden_3, keep_prob)\n",
    "        result = tf.matmul(drop_3, deep_vars['0']['layer_4_weights']) + \\\n",
    "                            deep_vars[digit]['layer_4_biases']\n",
    "      return result\n",
    "\n",
    "  def base_model(data, keep_prob=1):\n",
    "      with tf.name_scope('base_model'):\n",
    "          cnn = cnn_model(data, cnn_vars)\n",
    "          logit_stack = list()\n",
    "          for i in range(num_digits):\n",
    "              logit_stack.append(digit_model(cnn, str(i), keep_prob))\n",
    "      return tf.stack(logit_stack, axis=1)\n",
    "\n",
    "  def train_model(logits, labels):\n",
    "      with tf.name_scope('train_model'):\n",
    "        softmax_stack = list()\n",
    "        pred = list()\n",
    "        for i in range(num_digits):\n",
    "            cross_entropy = tf.nn.softmax_cross_entropy_with_logits(logits[:,i,:], labels[:,i,:])\n",
    "            softmax_stack.append(tf.reduce_mean(cross_entropy))\n",
    "        loss = tf.reduce_mean(tf.stack(softmax_stack), name='loss_function')\n",
    "      return loss\n",
    "\n",
    "  def make_prediction(logits):\n",
    "      with tf.name_scope('test_model'):\n",
    "        pred = list()\n",
    "        for i in range(num_digits):\n",
    "              pred.append(tf.nn.softmax(logits[:,i,:]))\n",
    "        return tf.stack(pred, axis=1)\n",
    "\n",
    "  # Training computation.\n",
    "  with tf.name_scope('training_computation'):\n",
    "      logits = base_model(tf_train_dataset, tf_keep_prob)\n",
    "      loss = train_model(logits, tf_train_labels)\n",
    "\n",
    "  with tf.name_scope('optimizer_computation'):\n",
    "      global_step = tf.Variable(0, name='global_step')  # count the number of steps taken.\n",
    "      learning_rate = tf.train.exponential_decay(0.01, global_step, 50, 0.98, name='learning_rate')\n",
    "      optimizer = tf.train.AdamOptimizer(learning_rate).minimize(loss, global_step=global_step, \n",
    "                                                                 name='optimizer')\n",
    "  \n",
    "  # Predictions for the validation, and test data.\n",
    "  with tf.name_scope('predictions'):\n",
    "      train_prediction = make_prediction(logits)\n",
    "      valid_prediction = make_prediction(base_model(tf_valid_dataset))\n",
    "      test_prediction = make_prediction(base_model(tf_test_dataset))"
   ]
  },
  {
   "cell_type": "code",
   "execution_count": null,
   "metadata": {
    "collapsed": false,
    "scrolled": true
   },
   "outputs": [
    {
     "name": "stdout",
     "output_type": "stream",
     "text": [
      "Initialized\n",
      "Step     0 batch loss: 1140.2043 \t Learing Rate: 0.01000\t\tBatch accuracy: 0.0%\tValidation accuracy: 0.0%\n",
      "Step  1000 batch loss:   1.0663 \t Learing Rate: 0.00668\t\tBatch accuracy: 0.0%\tValidation accuracy: 6.2%\n",
      "Step  2000 batch loss:   1.0269 \t Learing Rate: 0.00446\t\tBatch accuracy: 0.0%\tValidation accuracy: 4.4%\n",
      "Step  3000 batch loss:   1.0434 \t Learing Rate: 0.00298\t\tBatch accuracy: 8.3%\tValidation accuracy: 7.0%\n",
      "Step  4000 batch loss:   0.8416 \t Learing Rate: 0.00199\t\tBatch accuracy: 16.7%\tValidation accuracy: 8.7%\n"
     ]
    }
   ],
   "source": [
    "num_steps = 10001\n",
    "\n",
    "training_track = {}\n",
    "\n",
    "with tf.Session(graph=graph) as session:\n",
    "  writer = tf.summary.FileWriter('logs/nn_logs', graph=graph)\n",
    "  merged = tf.summary.merge_all()\n",
    "  tf.global_variables_initializer().run()\n",
    "  print('Initialized')\n",
    "  for step in range(num_steps):\n",
    "    offset = (step * batch_size) % (train_labels.shape[0] - batch_size)\n",
    "    batch_data = train_dataset[offset:(offset + batch_size), :, :, :]\n",
    "    batch_labels = train_labels[offset:(offset + batch_size), :, :]\n",
    "    feed_dict = {tf_train_dataset : batch_data, tf_train_labels : batch_labels}\n",
    "    _, summary, l, predictions, learn = session.run(\n",
    "      [optimizer, merged, loss, train_prediction, learning_rate], feed_dict=feed_dict)\n",
    "    writer.add_summary(summary, step)\n",
    "    if (step % 1000 == 0):\n",
    "      print('Step %5d batch loss: %8.4f \\t Learing Rate: %0.5f' % (step, l, learn), end='\\t\\t')\n",
    "      train_accuracy = accuracy(predictions, batch_labels)\n",
    "      print('Batch accuracy: %.1f%%' % train_accuracy, end='\\t')\n",
    "      valid_pred = valid_prediction.eval()\n",
    "      valid_accuracy = accuracy(valid_pred, valid_labels)\n",
    "      print('Validation accuracy: %.1f%%' % valid_accuracy)\n",
    "      training_track[step] = (train_accuracy, valid_accuracy)\n",
    "  print('Test accuracy: %.1f%%' % accuracy(test_prediction.eval(), test_labels))"
   ]
  },
  {
   "cell_type": "markdown",
   "metadata": {},
   "source": [
    "### After increasing convolution depth\n",
    "\n",
    "Decay: 0.01, Grade: 50, Rate: 0.98\n",
    "Validation accuracy with edge detection: %"
   ]
  },
  {
   "cell_type": "markdown",
   "metadata": {},
   "source": [
    "### Before increasing convolution depth\n",
    "\n",
    "Decay: 0.01, Grade: 25, Rate: 0.98  \n",
    "    Validation accuracy with edge detection: 9.6%  \n",
    "    Validation accuracy with base image:    %  \n",
    "\n",
    "Decay: 0.01, Grade: 50, Rate: 0.98  \n",
    "    Validation accuracy with edge detection: 15.2%  \n",
    "    Validation accuracy with base image:    %  \n",
    "    \n",
    "Decay: 0.01, Grade: 100, Rate: 0.98  \n",
    "    Validation accuracy with edge detection: 14.7%  \n",
    "    Validation accuracy with base image:    11.7%  \n",
    "\n",
    "Decay: 0.01, Grade: 250, Rate: 0.98  \n",
    "    Validation accuracy with edge detection: 14.1%  \n",
    "    Validation accuracy with base image:     11.5%  \n",
    "\n",
    "Decay: 0.01, Grade: 500, Rate: 0.98  \n",
    "    Validation accuracy with edge detection: 12.7%  \n",
    "    Validation accuracy with base image:    %  \n"
   ]
  }
 ],
 "metadata": {
  "kernelspec": {
   "display_name": "Python 3",
   "language": "python",
   "name": "python3"
  },
  "language_info": {
   "codemirror_mode": {
    "name": "ipython",
    "version": 3
   },
   "file_extension": ".py",
   "mimetype": "text/x-python",
   "name": "python",
   "nbconvert_exporter": "python",
   "pygments_lexer": "ipython3",
   "version": "3.5.2"
  }
 },
 "nbformat": 4,
 "nbformat_minor": 2
}
