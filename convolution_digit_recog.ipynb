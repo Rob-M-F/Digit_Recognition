{
 "cells": [
  {
   "cell_type": "code",
   "execution_count": 1,
   "metadata": {
    "collapsed": true
   },
   "outputs": [],
   "source": [
    "# These are all the modules we'll be using later. Make sure you can import them\n",
    "# before proceeding further.\n",
    "\n",
    "import numpy as np\n",
    "import tensorflow as tf\n",
    "from six.moves import cPickle as pickle\n",
    "from six.moves import range\n",
    "import notMNIST_gen"
   ]
  },
  {
   "cell_type": "code",
   "execution_count": 2,
   "metadata": {
    "collapsed": false,
    "scrolled": true
   },
   "outputs": [
    {
     "name": "stdout",
     "output_type": "stream",
     "text": [
      "Starting\n",
      "Download Complete\n",
      "Extract Complete\n",
      "Saving Complete\n",
      "Data Dictionaries Built\n",
      "Training set (200000, 64, 64) (200000,)\n",
      "Validation set (10000, 64, 64) (10000,)\n",
      "Test set (10000, 64, 64) (10000,)\n"
     ]
    }
   ],
   "source": [
    "save = notMNIST_gen.gen_composite()\n",
    "train_dataset = save['train_dataset']\n",
    "train_labels = save['train_labels']\n",
    "valid_dataset = save['valid_dataset']\n",
    "valid_labels = save['valid_labels']\n",
    "test_dataset = save['test_dataset']\n",
    "test_labels = save['test_labels']\n",
    "del save  # hint to help gc free up memory\n",
    "print('Training set', train_dataset.shape, train_labels.shape)\n",
    "print('Validation set', valid_dataset.shape, valid_labels.shape)\n",
    "print('Test set', test_dataset.shape, test_labels.shape)"
   ]
  },
  {
   "cell_type": "code",
   "execution_count": 3,
   "metadata": {
    "collapsed": false,
    "scrolled": true
   },
   "outputs": [
    {
     "name": "stdout",
     "output_type": "stream",
     "text": [
      "uint8\n"
     ]
    }
   ],
   "source": [
    "print(train_dataset.dtype)"
   ]
  },
  {
   "cell_type": "code",
   "execution_count": 4,
   "metadata": {
    "collapsed": false
   },
   "outputs": [
    {
     "name": "stdout",
     "output_type": "stream",
     "text": [
      "Training set (200000, 64, 64, 1) (200000, 5, 11)\n",
      "Validation set (10000, 64, 64, 1) (10000, 5, 11)\n",
      "Test set (10000, 64, 64, 1) (10000, 5, 11)\n"
     ]
    }
   ],
   "source": [
    "image_size = 64\n",
    "num_digits = 5\n",
    "num_labels = 11\n",
    "num_channels = 1 # grayscale\n",
    "\n",
    "import numpy as np\n",
    "\n",
    "def reformat(dataset, labels):\n",
    "  dataset = dataset.reshape(\n",
    "    (-1, image_size, image_size, num_channels)).astype(np.float32)\n",
    "  l_shape = labels.shape\n",
    "  new_labels = np.ndarray((l_shape[0], num_digits))\n",
    "  for l, label in enumerate(labels):\n",
    "    for c, char in enumerate(label):\n",
    "        new_labels[l,c] = char\n",
    "  labels = (np.arange(num_labels) == new_labels[:,:,None]).astype(np.float32)\n",
    "  return dataset, labels\n",
    "train_dataset, train_labels = reformat(train_dataset, train_labels)\n",
    "valid_dataset, valid_labels = reformat(valid_dataset, valid_labels)\n",
    "test_dataset, test_labels = reformat(test_dataset, test_labels)\n",
    "print('Training set', train_dataset.shape, train_labels.shape)\n",
    "print('Validation set', valid_dataset.shape, valid_labels.shape)\n",
    "print('Test set', test_dataset.shape, test_labels.shape)"
   ]
  },
  {
   "cell_type": "code",
   "execution_count": 5,
   "metadata": {
    "collapsed": false
   },
   "outputs": [
    {
     "name": "stdout",
     "output_type": "stream",
     "text": [
      "float32\n"
     ]
    }
   ],
   "source": [
    "print(train_dataset.dtype)"
   ]
  },
  {
   "cell_type": "code",
   "execution_count": 6,
   "metadata": {
    "collapsed": true
   },
   "outputs": [],
   "source": [
    "def accuracy(predictions, labels):\n",
    "  return (100.0 * np.sum(np.all(np.argmax(predictions, 2) == np.argmax(labels, 2), 1))\n",
    "          / predictions.shape[0])"
   ]
  },
  {
   "cell_type": "code",
   "execution_count": 2,
   "metadata": {
    "collapsed": false,
    "scrolled": false
   },
   "outputs": [
    {
     "ename": "NameError",
     "evalue": "name 'tf' is not defined",
     "output_type": "error",
     "traceback": [
      "\u001b[0;31m---------------------------------------------------------------------------\u001b[0m",
      "\u001b[0;31mNameError\u001b[0m                                 Traceback (most recent call last)",
      "\u001b[0;32m<ipython-input-2-1b4a339ed032>\u001b[0m in \u001b[0;36m<module>\u001b[0;34m()\u001b[0m\n\u001b[1;32m      4\u001b[0m \u001b[0mnum_hidden\u001b[0m \u001b[1;33m=\u001b[0m \u001b[1;36m64\u001b[0m\u001b[1;33m\u001b[0m\u001b[0m\n\u001b[1;32m      5\u001b[0m \u001b[1;33m\u001b[0m\u001b[0m\n\u001b[0;32m----> 6\u001b[0;31m \u001b[0mgraph\u001b[0m \u001b[1;33m=\u001b[0m \u001b[0mtf\u001b[0m\u001b[1;33m.\u001b[0m\u001b[0mGraph\u001b[0m\u001b[1;33m(\u001b[0m\u001b[1;33m)\u001b[0m\u001b[1;33m\u001b[0m\u001b[0m\n\u001b[0m\u001b[1;32m      7\u001b[0m \u001b[1;33m\u001b[0m\u001b[0m\n\u001b[1;32m      8\u001b[0m \u001b[1;32mwith\u001b[0m \u001b[0mgraph\u001b[0m\u001b[1;33m.\u001b[0m\u001b[0mas_default\u001b[0m\u001b[1;33m(\u001b[0m\u001b[1;33m)\u001b[0m\u001b[1;33m:\u001b[0m\u001b[1;33m\u001b[0m\u001b[0m\n",
      "\u001b[0;31mNameError\u001b[0m: name 'tf' is not defined"
     ]
    }
   ],
   "source": [
    "batch_size = 16\n",
    "patch_size = 5\n",
    "depth = 16\n",
    "num_hidden = 64\n",
    "\n",
    "graph = tf.Graph()\n",
    "\n",
    "with graph.as_default():\n",
    "\n",
    "  # Input data.\n",
    "  tf_train_dataset = tf.placeholder(\n",
    "    tf.float32, shape=(batch_size, image_size, image_size, num_channels), \n",
    "      name='train_dataset_in')\n",
    "  tf_train_labels = tf.placeholder(\n",
    "      tf.float32, shape=(batch_size, num_digits, num_labels), name='train_labels_in')\n",
    "  tf_valid_dataset = tf.constant(valid_dataset, name='valid_dataset_in')\n",
    "  tf_test_dataset = tf.constant(test_dataset, name='valid_labels_in')\n",
    "  \n",
    "  # Variables.\n",
    "  def variable_dict(digit):\n",
    "      var_dict = {}\n",
    "      var_dict['layer1_weights'] = tf.Variable(tf.truncated_normal(\n",
    "          [patch_size, patch_size, num_channels, depth], stddev=0.1), \n",
    "                                               name='layer1_'+ digit + '_weights')\n",
    "      var_dict['layer1_biases'] = tf.Variable(tf.zeros([depth]), \n",
    "                                              name='layer1_'+ digit + '_biases')\n",
    "      var_dict['layer2_weights'] = tf.Variable(tf.truncated_normal(\n",
    "          [patch_size, patch_size, depth, depth], stddev=0.1), \n",
    "                                               name='layer2_'+ digit + '_weights')\n",
    "      var_dict['layer2_biases'] = tf.Variable(tf.constant(1.0, shape=[depth]), \n",
    "                                              name='layer1_'+ digit + '_biases')\n",
    "      var_dict['layer3_weights'] = tf.Variable(tf.truncated_normal(\n",
    "          [image_size // 4 * image_size // 4 * depth, num_hidden], stddev=0.1), \n",
    "                                               name='layer3_'+ digit + '_weights')\n",
    "      var_dict['layer3_biases'] = tf.Variable(tf.constant(1.0, shape=[num_hidden]), \n",
    "                                              name='layer3_'+ digit + '_biases')\n",
    "      var_dict['layer4_weights'] = tf.Variable(tf.truncated_normal(\n",
    "          [num_hidden, num_labels], stddev=0.1), name='layer4_'+ digit + '_weights')\n",
    "      var_dict['layer4_biases'] = tf.Variable(tf.constant(1.0, shape=[num_labels]), \n",
    "                                              name='layer1_'+ digit + '_biases')\n",
    "      return var_dict\n",
    "\n",
    "  digit_1_vars = variable_dict('1')\n",
    "  digit_2_vars = variable_dict('2')\n",
    "  digit_3_vars = variable_dict('3')\n",
    "  digit_4_vars = variable_dict('4')\n",
    "  digit_5_vars = variable_dict('5')\n",
    "                      \n",
    "  # Model.\n",
    "  def char_model(data, var_set):\n",
    "    conv = tf.nn.conv2d(data, var_set['layer1_weights'], [1, 2, 2, 1], padding='SAME')\n",
    "    conv = tf.nn.max_pool(conv, [1, 3, 3, 1], [1, 1, 1, 1], padding='SAME')\n",
    "    hidden = tf.nn.relu(conv + var_set['layer1_biases'])\n",
    "    conv = tf.nn.conv2d(hidden, var_set['layer2_weights'], [1, 2, 2, 1], padding='SAME')\n",
    "    conv = tf.nn.max_pool(conv, [1, 3, 3, 1], [1, 1, 1, 1], padding='SAME')\n",
    "    hidden = tf.nn.relu(conv + var_set['layer2_biases'])\n",
    "    shape = hidden.get_shape().as_list()\n",
    "    reshape = tf.reshape(hidden, [shape[0], shape[1] * shape[2] * shape[3]])\n",
    "    hidden = tf.nn.relu(tf.matmul(reshape, var_set['layer3_weights']) + var_set['layer3_biases'])\n",
    "    result = tf.matmul(hidden, var_set['layer4_weights']) + var_set['layer4_biases']\n",
    "    return result\n",
    "  \n",
    "  def model(data):\n",
    "      logit_1 = char_model(data, digit_1_vars)\n",
    "      logit_2 = char_model(data, digit_2_vars)\n",
    "      logit_3 = char_model(data, digit_3_vars)\n",
    "      logit_4 = char_model(data, digit_4_vars)\n",
    "      logit_5 = char_model(data, digit_5_vars)    \n",
    "      logit_stack = [logit_1, logit_2, logit_3, logit_4, logit_5]\n",
    "      return (tf.pack(logit_stack, axis=1))\n",
    "\n",
    "  # Training computation.\n",
    "  logits = model(tf_train_dataset)\n",
    "  logit_shape = logits.get_shape().as_list()\n",
    "  label_shape = tf_train_labels.get_shape().as_list()\n",
    "  logit_reshape = tf.reshape(logits,[logit_shape[0]*logit_shape[1], logit_shape[2]])\n",
    "  label_reshape = tf.reshape(tf_train_labels,[label_shape[0]*label_shape[1], label_shape[2]])\n",
    "  loss = tf.reduce_mean(\n",
    "    tf.nn.softmax_cross_entropy_with_logits(logit_reshape, label_reshape))\n",
    "    \n",
    "  # Optimizer.\n",
    "  global_step = tf.Variable(0)  # count the number of steps taken.\n",
    "  learning_rate = tf.train.exponential_decay(0.0001, global_step, 500, 0.99)\n",
    "  optimizer = tf.train.AdamOptimizer(learning_rate).minimize(loss, global_step=global_step)\n",
    "  \n",
    "  # Predictions for the training, validation, and test data.\n",
    "  train_prediction = tf.nn.softmax(logits)\n",
    "  valid_prediction = tf.nn.softmax(model(tf_valid_dataset))\n",
    "  test_prediction = tf.nn.softmax(model(tf_test_dataset))"
   ]
  },
  {
   "cell_type": "code",
   "execution_count": null,
   "metadata": {
    "collapsed": false,
    "scrolled": true
   },
   "outputs": [
    {
     "name": "stdout",
     "output_type": "stream",
     "text": [
      "Initialized\n",
      "Minibatch loss at step 0: 0.000000\n",
      "Minibatch accuracy: 0.0%\n"
     ]
    }
   ],
   "source": [
    "num_steps = 11\n",
    "\n",
    "with tf.Session(graph=graph) as session:\n",
    "  tf.global_variables_initializer().run()\n",
    "  print('Initialized')\n",
    "  for step in range(num_steps):\n",
    "    offset = (step * batch_size) % (train_labels.shape[0] - batch_size)\n",
    "    batch_data = train_dataset[offset:(offset + batch_size), :, :, :]\n",
    "    batch_labels = train_labels[offset:(offset + batch_size), :, :]\n",
    "    feed_dict = {tf_train_dataset : batch_data, tf_train_labels : batch_labels}\n",
    "    _, l, predictions = session.run(\n",
    "      [optimizer, loss, train_prediction], feed_dict=feed_dict)\n",
    "    if (step % 2 == 0):\n",
    "      print('Minibatch loss at step %d: %f' % (step, l))\n",
    "      print('Minibatch accuracy: %.1f%%' % accuracy(predictions, batch_labels))\n",
    "      print('Validation accuracy: %.1f%%' % accuracy(\n",
    "        valid_prediction.eval(), valid_labels))\n",
    "  print('Test accuracy: %.1f%%' % accuracy(test_prediction.eval(), test_labels))"
   ]
  },
  {
   "cell_type": "code",
   "execution_count": null,
   "metadata": {
    "collapsed": true
   },
   "outputs": [],
   "source": []
  }
 ],
 "metadata": {
  "kernelspec": {
   "display_name": "Python 3",
   "language": "python",
   "name": "python3"
  },
  "language_info": {
   "codemirror_mode": {
    "name": "ipython",
    "version": 3
   },
   "file_extension": ".py",
   "mimetype": "text/x-python",
   "name": "python",
   "nbconvert_exporter": "python",
   "pygments_lexer": "ipython3",
   "version": "3.5.2"
  }
 },
 "nbformat": 4,
 "nbformat_minor": 2
}
